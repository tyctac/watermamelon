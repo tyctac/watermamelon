{
 "cells": [
  {
   "cell_type": "code",
   "execution_count": 41,
   "metadata": {
    "collapsed": true
   },
   "outputs": [],
   "source": [
    "\n",
    "# -*- coding: utf-8 -*-  \n",
    "import numpy as np  \n",
    "import matplotlib.pyplot as plt  \n",
    "  \n",
    "data = [[0.697,0.460,1],  \n",
    "        [0.774,0.376,1],  \n",
    "        [0.634,0.264,1],  \n",
    "        [0.608,0.318,1],  \n",
    "        [0.556,0.215,1],  \n",
    "        [0.403,0.237,1],  \n",
    "        [0.481,0.149,1],  \n",
    "        [0.437,0.211,1],  \n",
    "        [0.666,0.091,0],  \n",
    "        [0.243,0.267,0],  \n",
    "        [0.245,0.057,0],  \n",
    "        [0.343,0.099,0],  \n",
    "        [0.639,0.161,0],  \n",
    "        [0.657,0.198,0],  \n",
    "        [0.360,0.370,0],  \n",
    "        [0.593,0.042,0],  \n",
    "        [0.719,0.103,0]]  # 2 attributes(column),17 instances(row)  \n"
   ]
  },
  {
   "cell_type": "code",
   "execution_count": 42,
   "metadata": {
    "collapsed": true
   },
   "outputs": [],
   "source": [
    "data = np.array([i[:-1] for i in data])  "
   ]
  },
  {
   "cell_type": "code",
   "execution_count": 43,
   "metadata": {
    "collapsed": false
   },
   "outputs": [],
   "source": [
    "X0 = np.array(data[:8])  \n",
    "X1 = np.array(data[8:])  "
   ]
  },
  {
   "cell_type": "code",
   "execution_count": 44,
   "metadata": {
    "collapsed": false
   },
   "outputs": [],
   "source": [
    "miu0 = np.mean(X0,axis=0).reshape((-1,1))  \n",
    "miu1 = np.mean(X1,axis=0).reshape((-1,1)) "
   ]
  },
  {
   "cell_type": "code",
   "execution_count": 45,
   "metadata": {
    "collapsed": false
   },
   "outputs": [],
   "source": [
    "cov0 = np.cov(X0,rowvar=False)  \n",
    "cov1 = np.cov(X1,rowvar=False)  "
   ]
  },
  {
   "cell_type": "code",
   "execution_count": 46,
   "metadata": {
    "collapsed": false
   },
   "outputs": [
    {
     "data": {
      "text/plain": [
       "matrix([[ 0.05461072,  0.00400306],\n",
       "        [ 0.00400306,  0.02180534]])"
      ]
     },
     "execution_count": 46,
     "metadata": {},
     "output_type": "execute_result"
    }
   ],
   "source": [
    "scatter_w = np.mat(cov0 + cov1)  ## 类内散度矩阵"
   ]
  },
  {
   "cell_type": "code",
   "execution_count": null,
   "metadata": {
    "collapsed": true
   },
   "outputs": [],
   "source": []
  },
  {
   "cell_type": "code",
   "execution_count": 2,
   "metadata": {
    "collapsed": false
   },
   "outputs": [
    {
     "data": {
      "image/png": "[encoded data removed]",
      "text/plain": [
       "<matplotlib.figure.Figure at 0x7f86c9ca7910>"
      ]
     },
     "metadata": {},
     "output_type": "display_data"
    }
   ],
   "source": [
    "\n",
    "omiga = scatter_w.I * (miu0-miu1)  \n",
    "plt.scatter(X0[:,0],X0[:,1],label='+')  \n",
    "plt.scatter(X1[:,0],X1[:,1],label='-')  \n",
    "plt.plot([0,1],[0,-omiga[0]/omiga[1]],label='y')  \n",
    "plt.legend()  \n",
    "plt.show()"
   ]
  },
  {
   "cell_type": "code",
   "execution_count": 51,
   "metadata": {
    "collapsed": false
   },
   "outputs": [],
   "source": [
    "tmp = data[:,0]"
   ]
  },
  {
   "cell_type": "code",
   "execution_count": 54,
   "metadata": {
    "collapsed": false
   },
   "outputs": [
    {
     "data": {
      "text/plain": [
       "array([ 0.243,  0.245,  0.343,  0.36 ,  0.403,  0.437,  0.481,  0.556,\n",
       "        0.593,  0.608,  0.634,  0.639,  0.657,  0.666,  0.697,  0.719,\n",
       "        0.774])"
      ]
     },
     "execution_count": 54,
     "metadata": {},
     "output_type": "execute_result"
    }
   ],
   "source": [
    "tmp.sort()\n",
    "tmp"
   ]
  },
  {
   "cell_type": "code",
   "execution_count": null,
   "metadata": {
    "collapsed": true
   },
   "outputs": [],
   "source": []
  }
 ],
 "metadata": {
  "kernelspec": {
   "display_name": "Python 2",
   "language": "python",
   "name": "python2"
  },
  "language_info": {
   "codemirror_mode": {
    "name": "ipython",
    "version": 2
   },
   "file_extension": ".py",
   "mimetype": "text/x-python",
   "name": "python",
   "nbconvert_exporter": "python",
   "pygments_lexer": "ipython2",
   "version": "2.7.12"
  }
 },
 "nbformat": 4,
 "nbformat_minor": 2
}
