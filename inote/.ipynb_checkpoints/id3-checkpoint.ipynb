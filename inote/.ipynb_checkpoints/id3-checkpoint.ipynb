{
 "cells": [
  {
   "cell_type": "code",
   "execution_count": 25,
   "metadata": {
    "collapsed": false
   },
   "outputs": [],
   "source": [
    "# -*- coding: utf-8 -*-\n",
    "\n",
    "from numpy import *\n",
    "import numpy as np\n",
    "import pandas as pd\n",
    "from math import log\n",
    "import operator\n",
    "\n",
    "#计算数据集的香农熵\n",
    "def calcShannonEnt(dataSet):\n",
    "    numEntries=len(dataSet)\n",
    "    labelCounts={}\n",
    "    #给所有可能分类创建字典\n",
    "    for featVec in dataSet:\n",
    "        currentLabel=featVec[-1]\n",
    "        if currentLabel not in labelCounts.keys():\n",
    "            labelCounts[currentLabel]=0\n",
    "        labelCounts[currentLabel]+=1\n",
    "    shannonEnt=0.0\n",
    "    #以2为底数计算香农熵\n",
    "    for key in labelCounts:\n",
    "        prob = float(labelCounts[key])/numEntries\n",
    "        shannonEnt-=prob*log(prob,2)\n",
    "    return shannonEnt\n",
    "\n",
    "\n",
    "#对离散变量划分数据集，取出该特征取值为value的所有样本\n",
    "def splitDataSet(dataSet,axis,value):\n",
    "    retDataSet=[]\n",
    "    for featVec in dataSet:\n",
    "        if featVec[axis]==value:\n",
    "            reducedFeatVec=featVec[:axis]\n",
    "            reducedFeatVec.extend(featVec[axis+1:])\n",
    "            retDataSet.append(reducedFeatVec)\n",
    "    return retDataSet\n",
    "\n",
    "#对连续变量划分数据集，direction规定划分的方向，\n",
    "#决定是划分出小于value的数据样本还是大于value的数据样本集\n",
    "def splitContinuousDataSet(dataSet,axis,value,direction):\n",
    "    retDataSet=[]\n",
    "    for featVec in dataSet:\n",
    "        if direction==0:\n",
    "            if featVec[axis]>value:\n",
    "                reducedFeatVec=featVec[:axis]\n",
    "                reducedFeatVec.extend(featVec[axis+1:])\n",
    "                retDataSet.append(reducedFeatVec)\n",
    "        else:\n",
    "            if featVec[axis]<=value:\n",
    "                reducedFeatVec=featVec[:axis]\n",
    "                reducedFeatVec.extend(featVec[axis+1:])\n",
    "                retDataSet.append(reducedFeatVec)\n",
    "    return retDataSet\n",
    "\n",
    "#选择最好的数据集划分方式\n",
    "def chooseBestFeatureToSplit(dataSet,labels):\n",
    "    numFeatures=len(dataSet[0])-1\n",
    "    baseEntropy=calcShannonEnt(dataSet)\n",
    "    bestInfoGain=0.0\n",
    "    bestFeature=-1\n",
    "    bestSplitDict={}\n",
    "    for i in range(numFeatures):\n",
    "        featList=[example[i] for example in dataSet]\n",
    "        #对连续型特征进行处理\n",
    "        if type(featList[0]).__name__=='float' or type(featList[0]).__name__=='int':\n",
    "            #产生n-1个候选划分点\n",
    "            sortfeatList=sorted(featList)\n",
    "            splitList=[]\n",
    "            for j in range(len(sortfeatList)-1):\n",
    "                splitList.append((sortfeatList[j]+sortfeatList[j+1])/2.0)\n",
    "            \n",
    "            bestSplitEntropy=10000\n",
    "            slen=len(splitList)\n",
    "            #求用第j个候选划分点划分时，得到的信息熵，并记录最佳划分点\n",
    "            for j in range(slen):\n",
    "                value=splitList[j]\n",
    "                newEntropy=0.0\n",
    "                subDataSet0=splitContinuousDataSet(dataSet,i,value,0)\n",
    "                subDataSet1=splitContinuousDataSet(dataSet,i,value,1)\n",
    "                prob0=len(subDataSet0)/float(len(dataSet))\n",
    "                newEntropy+=prob0*calcShannonEnt(subDataSet0)\n",
    "                prob1=len(subDataSet1)/float(len(dataSet))\n",
    "                newEntropy+=prob1*calcShannonEnt(subDataSet1)\n",
    "                if newEntropy<bestSplitEntropy:\n",
    "                    bestSplitEntropy=newEntropy\n",
    "                    bestSplit=j\n",
    "            #用字典记录当前特征的最佳划分点\n",
    "            bestSplitDict[labels[i]]=splitList[bestSplit]\n",
    "            infoGain=baseEntropy-bestSplitEntropy\n",
    "        #对离散型特征进行处理\n",
    "        else:\n",
    "            uniqueVals=set(featList)\n",
    "            newEntropy=0.0\n",
    "            #计算该特征下每种划分的信息熵\n",
    "            for value in uniqueVals:\n",
    "                subDataSet=splitDataSet(dataSet,i,value)\n",
    "                prob=len(subDataSet)/float(len(dataSet))\n",
    "                newEntropy+=prob*calcShannonEnt(subDataSet)\n",
    "            infoGain=baseEntropy-newEntropy\n",
    "        if infoGain>bestInfoGain:\n",
    "            bestInfoGain=infoGain\n",
    "            bestFeature=i\n",
    "    #若当前节点的最佳划分特征为连续特征，则将其以之前记录的划分点为界进行二值化处理\n",
    "    #即是否小于等于bestSplitValue\n",
    "    if type(dataSet[0][bestFeature]).__name__=='float' or type(dataSet[0][bestFeature]).__name__=='int':      \n",
    "        bestSplitValue=bestSplitDict[labels[bestFeature]]        \n",
    "        labels[bestFeature]=labels[bestFeature]+'<='+str(bestSplitValue)\n",
    "        for i in range(shape(dataSet)[0]):\n",
    "            if dataSet[i][bestFeature]<=bestSplitValue:\n",
    "                dataSet[i][bestFeature]=1\n",
    "            else:\n",
    "                dataSet[i][bestFeature]=0\n",
    "    return bestFeature"
   ]
  },
  {
   "cell_type": "code",
   "execution_count": 39,
   "metadata": {
    "collapsed": false
   },
   "outputs": [],
   "source": [
    "#特征若已经划分完，节点下的样本还没有统一取值，则需要进行投票\n",
    "def majorityCnt(classList):\n",
    "    a={}\n",
    "    for vote in classList:\n",
    "        if vote not in a.keys():\n",
    "            a[vote]=0\n",
    "        a[vote]+=1\n",
    "    return max(a)"
   ]
  },
  {
   "cell_type": "code",
   "execution_count": 40,
   "metadata": {
    "collapsed": true
   },
   "outputs": [
    {
     "ename": "SyntaxError",
     "evalue": "invalid syntax (<ipython-input-40-c1dd83bae7ad>, line 4)",
     "output_type": "error",
     "traceback": [
      "\u001b[0;36m  File \u001b[0;32m\"<ipython-input-40-c1dd83bae7ad>\"\u001b[0;36m, line \u001b[0;32m4\u001b[0m\n\u001b[0;31m    classList=[example[-1] for example in dataSet]\u001b[0m\n\u001b[0m    ^\u001b[0m\n\u001b[0;31mSyntaxError\u001b[0m\u001b[0;31m:\u001b[0m invalid syntax\n"
     ]
    }
   ],
   "source": [
    "\n",
    "#主程序，递归产生决策树\n",
    "def createTree(dataSet,labels,data_full,labels_full):\n",
    "    classList=[example[-1] for example in dataSet]\n",
    "    if classList.count(classList[0])==len(classList):\n",
    "        return classList[0]\n",
    "    if len(dataSet[0])==1:\n",
    "        return majorityCnt(classList)\n",
    "    bestFeat=chooseBestFeatureToSplit(dataSet,labels)\n",
    "    bestFeatLabel=labels[bestFeat]\n",
    "    myTree={bestFeatLabel:{}}\n",
    "    featValues=[example[bestFeat] for example in dataSet]\n",
    "    uniqueVals=set(featValues)\n",
    "    if type(dataSet[0][bestFeat]).__name__=='str':\n",
    "        currentlabel=labels_full.index(labels[bestFeat])\n",
    "        featValuesFull=[example[currentlabel] for example in data_full]\n",
    "        uniqueValsFull=set(featValuesFull)\n",
    "    del(labels[bestFeat])\n",
    "    #针对bestFeat的每个取值，划分出一个子树。\n",
    "    for value in uniqueVals:\n",
    "        subLabels=labels[:]\n",
    "        if type(dataSet[0][bestFeat]).__name__=='str':\n",
    "            uniqueValsFull.remove(value)\n",
    "        myTree[bestFeatLabel][value]=createTree(splitDataSet(dataSet,bestFeat,value),subLabels,data_full,labels_full)\n",
    "    if type(dataSet[0][bestFeat]).__name__=='str':\n",
    "        for value in uniqueValsFull:\n",
    "            myTree[bestFeatLabel][value]=majorityCnt(classList)\n",
    "    return myTree"
   ]
  },
  {
   "cell_type": "code",
   "execution_count": 42,
   "metadata": {
    "collapsed": false
   },
   "outputs": [],
   "source": [
    "def createTree(dataSet,labels,data_full,labels_full):\n",
    "    classList=[example[-1] for example in dataSet]\n",
    "    if classList.count(classList[0])==len(classList):\n",
    "        return classList[0]\n",
    "    if len(dataSet[0])==1:\n",
    "        return majorityCnt(classList)\n",
    "    bestFeat=chooseBestFeatureToSplit(dataSet,labels)\n",
    "    bestFeatLabel=labels[bestFeat]\n",
    "    myTree={bestFeatLabel:{}}\n",
    "    featValues=[example[bestFeat] for example in dataSet]\n",
    "    uniqueVals=set(featValues)\n",
    "    if type(dataSet[0][bestFeat]).__name__=='str':\n",
    "        currentlabel=labels_full.index(labels[bestFeat])\n",
    "        featValuesFull=[example[currentlabel] for example in data_full]\n",
    "        uniqueValsFull=set(featValuesFull)\n",
    "    del(labels[bestFeat])\n",
    "    #针对bestFeat的每个取值，划分出一个子树。\n",
    "    for value in uniqueVals:\n",
    "        subLabels=labels[:]\n",
    "        if type(dataSet[0][bestFeat]).__name__=='str':\n",
    "            uniqueValsFull.remove(value)\n",
    "        myTree[bestFeatLabel][value]=createTree(splitDataSet(dataSet,bestFeat,value),subLabels,data_full,labels_full)\n",
    "    if type(dataSet[0][bestFeat]).__name__=='str':\n",
    "        for value in uniqueValsFull:\n",
    "            myTree[bestFeatLabel][value]=majorityCnt(classList)\n",
    "    return myTree"
   ]
  },
  {
   "cell_type": "code",
   "execution_count": 43,
   "metadata": {
    "collapsed": true
   },
   "outputs": [],
   "source": [
    "df=pd.read_csv('data/d4_3.csv')"
   ]
  },
  {
   "cell_type": "code",
   "execution_count": 44,
   "metadata": {
    "collapsed": false
   },
   "outputs": [
    {
     "data": {
      "text/plain": [
       "{'texture': {'blur': 0,\n",
       "  'distinct': {'density<=0.3815': {0: 1, 1: 0}},\n",
       "  'little_blur': {'touch': {'hard_smooth': 0, 'soft_stick': 1}}}}"
      ]
     },
     "execution_count": 44,
     "metadata": {},
     "output_type": "execute_result"
    }
   ],
   "source": [
    "data=df.values[:,1:].tolist()\n",
    "data_full=data[:]  \n",
    "labels=df.columns.values[1:-1].tolist()  \n",
    "labels_full=labels[:]  \n",
    "myTree=createTree(data,labels,data_full,labels_full)\n",
    "myTree"
   ]
  },
  {
   "cell_type": "code",
   "execution_count": 45,
   "metadata": {
    "collapsed": true
   },
   "outputs": [],
   "source": [
    "import matplotlib.pyplot as plt  \n",
    "decisionNode=dict(boxstyle=\"sawtooth\",fc=\"0.8\")  \n",
    "leafNode=dict(boxstyle=\"round4\",fc=\"0.8\")  \n",
    "arrow_args=dict(arrowstyle=\"<-\") "
   ]
  },
  {
   "cell_type": "code",
   "execution_count": 46,
   "metadata": {
    "collapsed": true
   },
   "outputs": [],
   "source": [
    "def getNumLeafs(myTree):  \n",
    "    numLeafs=0  \n",
    "    firstStr=myTree.keys()[0]  \n",
    "    secondDict=myTree[firstStr]  \n",
    "    for key in secondDict.keys():  \n",
    "        if type(secondDict[key]).__name__=='dict':  \n",
    "            numLeafs+=getNumLeafs(secondDict[key])  \n",
    "        else: numLeafs+=1  \n",
    "    return numLeafs  \n",
    "  \n",
    "#计算树的最大深度  \n",
    "def getTreeDepth(myTree):  \n",
    "    maxDepth=0  \n",
    "    firstStr=myTree.keys()[0]  \n",
    "    secondDict=myTree[firstStr]  \n",
    "    for key in secondDict.keys():  \n",
    "        if type(secondDict[key]).__name__=='dict':  \n",
    "            thisDepth=1+getTreeDepth(secondDict[key])  \n",
    "        else: thisDepth=1  \n",
    "        if thisDepth>maxDepth:  \n",
    "            maxDepth=thisDepth  \n",
    "    return maxDepth  \n",
    "  \n",
    "#画节点  \n",
    "def plotNode(nodeTxt,centerPt,parentPt,nodeType):  \n",
    "    createPlot.ax1.annotate(nodeTxt,xy=parentPt,xycoords='axes fraction',xytext=centerPt,textcoords='axes fraction',va=\"center\", ha=\"center\",bbox=nodeType,arrowprops=arrow_args)  \n",
    "    \n",
    "#画箭头上的文字  \n",
    "def plotMidText(cntrPt,parentPt,txtString):  \n",
    "    lens=len(txtString)  \n",
    "    xMid=(parentPt[0]+cntrPt[0])/2.0-lens*0.002  \n",
    "    yMid=(parentPt[1]+cntrPt[1])/2.0  \n",
    "    createPlot.ax1.text(xMid,yMid,txtString)  \n",
    "      \n",
    "def plotTree(myTree,parentPt,nodeTxt):  \n",
    "    numLeafs=getNumLeafs(myTree)  \n",
    "    depth=getTreeDepth(myTree)  \n",
    "    firstStr=myTree.keys()[0]  \n",
    "    cntrPt=(plotTree.x0ff+(1.0+float(numLeafs))/2.0/plotTree.totalW,plotTree.y0ff)  \n",
    "    plotMidText(cntrPt,parentPt,nodeTxt)  \n",
    "    plotNode(firstStr,cntrPt,parentPt,decisionNode)  \n",
    "    secondDict=myTree[firstStr]  \n",
    "    plotTree.y0ff=plotTree.y0ff-1.0/plotTree.totalD  \n",
    "    for key in secondDict.keys():  \n",
    "        if type(secondDict[key]).__name__=='dict':  \n",
    "            plotTree(secondDict[key],cntrPt,str(key))  \n",
    "        else:  \n",
    "            plotTree.x0ff=plotTree.x0ff+1.0/plotTree.totalW  \n",
    "            plotNode(secondDict[key],(plotTree.x0ff,plotTree.y0ff),cntrPt,leafNode)  \n",
    "            plotMidText((plotTree.x0ff,plotTree.y0ff),cntrPt,str(key))  \n",
    "    plotTree.y0ff=plotTree.y0ff+1.0/plotTree.totalD  \n",
    "\n",
    "def createPlot(inTree):  \n",
    "    fig=plt.figure(1,facecolor='white')  \n",
    "    fig.clf()  \n",
    "    axprops=dict(xticks=[],yticks=[])  \n",
    "    createPlot.ax1=plt.subplot(111,frameon=False,**axprops)  \n",
    "    plotTree.totalW=float(getNumLeafs(inTree))  \n",
    "    plotTree.totalD=float(getTreeDepth(inTree))  \n",
    "    plotTree.x0ff=-0.5/plotTree.totalW  \n",
    "    plotTree.y0ff=1.0  \n",
    "    plotTree(inTree,(0.5,1.0),'')  \n",
    "    plt.show()  "
   ]
  },
  {
   "cell_type": "code",
   "execution_count": 49,
   "metadata": {
    "collapsed": false
   },
   "outputs": [
    {
     "data": {
      "image/png": "[encoded data removed]",
      "text/plain": [
       "<matplotlib.figure.Figure at 0x7ffbb4470ed0>"
      ]
     },
     "metadata": {},
     "output_type": "display_data"
    }
   ],
   "source": [
    "createPlot(myTree)"
   ]
  },
  {
   "cell_type": "code",
   "execution_count": null,
   "metadata": {
    "collapsed": true
   },
   "outputs": [],
   "source": []
  }
 ],
 "metadata": {
  "kernelspec": {
   "display_name": "Python 2",
   "language": "python",
   "name": "python2"
  },
  "language_info": {
   "codemirror_mode": {
    "name": "ipython",
    "version": 2
   },
   "file_extension": ".py",
   "mimetype": "text/x-python",
   "name": "python",
   "nbconvert_exporter": "python",
   "pygments_lexer": "ipython2",
   "version": "2.7.12"
  }
 },
 "nbformat": 4,
 "nbformat_minor": 2
}
