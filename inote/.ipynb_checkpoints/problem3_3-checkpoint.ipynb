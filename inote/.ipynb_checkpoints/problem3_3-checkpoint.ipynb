{
 "cells": [
  {
   "cell_type": "code",
   "execution_count": 2,
   "metadata": {
    "collapsed": false
   },
   "outputs": [],
   "source": [
    "# -*- coding: utf-8 -*-\n",
    "import numpy as np\n",
    "# the exercise is from p69 > 3.3\n",
    "# the training_dataset is p89, assign to data(type=matrix).\n",
    "# divide the set into 3 column: density, sugar, label.\n",
    "# the indices are data[:,0], data[:,1], data[:,2] respectively.\n",
    "# in this example, the number of  attributes equals to 2.\n",
    "data = [[0.697,0.460,1],\n",
    "        [0.774,0.376,1],\n",
    "        [0.634,0.264,1],\n",
    "        [0.608,0.318,1],\n",
    "        [0.556,0.215,1],\n",
    "        [0.403,0.237,1],\n",
    "        [0.481,0.149,1],\n",
    "        [0.437,0.211,1],\n",
    "        [0.666,0.091,0],\n",
    "        [0.243,0.267,0],\n",
    "        [0.245,0.057,0],\n",
    "        [0.343,0.099,0],\n",
    "        [0.639,0.161,0],\n",
    "        [0.657,0.198,0],\n",
    "        [0.360,0.370,0],\n",
    "        [0.593,0.042,0],\n",
    "        [0.719,0.103,0]]\n",
    "beta=np.array([1,1,1]).reshape((-1,1))  # initial beta is a column vector of [w1,w2,b]'\n",
    "\n",
    "data = np.matrix(data)\n",
    "beta = np.matrix(beta)\n",
    "density, sugar, label = data[:,0], data[:,1], data[:,2]\n",
    "# in the label list, set 'good' to 1 and 'bad' to '0'\n",
    "\n",
    "\n",
    "\n"
   ]
  },
  {
   "cell_type": "code",
   "execution_count": 8,
   "metadata": {
    "collapsed": false
   },
   "outputs": [
    {
     "data": {
      "text/plain": [
       "matrix([[1],\n",
       "        [1],\n",
       "        [1]])"
      ]
     },
     "execution_count": 8,
     "metadata": {},
     "output_type": "execute_result"
    }
   ],
   "source": [
    "beta"
   ]
  },
  {
   "cell_type": "code",
   "execution_count": 9,
   "metadata": {
    "collapsed": false
   },
   "outputs": [
    {
     "data": {
      "text/plain": [
       "matrix([[ 0.697,  0.774,  0.634,  0.608,  0.556,  0.403,  0.481,  0.437,\n",
       "          0.666,  0.243,  0.245,  0.343,  0.639,  0.657,  0.36 ,  0.593,\n",
       "          0.719],\n",
       "        [ 0.46 ,  0.376,  0.264,  0.318,  0.215,  0.237,  0.149,  0.211,\n",
       "          0.091,  0.267,  0.057,  0.099,  0.161,  0.198,  0.37 ,  0.042,\n",
       "          0.103],\n",
       "        [ 1.   ,  1.   ,  1.   ,  1.   ,  1.   ,  1.   ,  1.   ,  1.   ,\n",
       "          1.   ,  1.   ,  1.   ,  1.   ,  1.   ,  1.   ,  1.   ,  1.   ,  1.   ]])"
      ]
     },
     "execution_count": 9,
     "metadata": {},
     "output_type": "execute_result"
    }
   ],
   "source": [
    "x = np.c_[density,sugar,np.ones(len(sugar))].T  # initial x is a column vector of [x1,x2,1]'\n",
    "x"
   ]
  },
  {
   "cell_type": "code",
   "execution_count": 13,
   "metadata": {
    "collapsed": false,
    "scrolled": false
   },
   "outputs": [
    {
     "data": {
      "text/plain": [
       "matrix([[ 0.697,  0.46 ,  1.   ,  0.   ],\n",
       "        [ 0.774,  0.376,  1.   ,  0.   ],\n",
       "        [ 0.634,  0.264,  1.   ,  0.   ],\n",
       "        [ 0.608,  0.318,  1.   ,  0.   ],\n",
       "        [ 0.556,  0.215,  1.   ,  0.   ],\n",
       "        [ 0.403,  0.237,  1.   ,  0.   ],\n",
       "        [ 0.481,  0.149,  1.   ,  0.   ],\n",
       "        [ 0.437,  0.211,  1.   ,  0.   ],\n",
       "        [ 0.666,  0.091,  1.   ,  0.   ],\n",
       "        [ 0.243,  0.267,  1.   ,  0.   ],\n",
       "        [ 0.245,  0.057,  1.   ,  0.   ],\n",
       "        [ 0.343,  0.099,  1.   ,  0.   ],\n",
       "        [ 0.639,  0.161,  1.   ,  0.   ],\n",
       "        [ 0.657,  0.198,  1.   ,  0.   ],\n",
       "        [ 0.36 ,  0.37 ,  1.   ,  0.   ],\n",
       "        [ 0.593,  0.042,  1.   ,  0.   ],\n",
       "        [ 0.719,  0.103,  1.   ,  0.   ]])"
      ]
     },
     "execution_count": 13,
     "metadata": {},
     "output_type": "execute_result"
    }
   ],
   "source": [
    "y = np.c_[density,sugar,np.ones(len(sugar)),np.zeros(len(sugar))]\n",
    "y"
   ]
  },
  {
   "cell_type": "code",
   "execution_count": 14,
   "metadata": {
    "collapsed": false
   },
   "outputs": [
    {
     "data": {
      "text/plain": [
       "17"
      ]
     },
     "execution_count": 14,
     "metadata": {},
     "output_type": "execute_result"
    }
   ],
   "source": [
    "x.shape[1]"
   ]
  },
  {
   "cell_type": "code",
   "execution_count": 16,
   "metadata": {
    "collapsed": true
   },
   "outputs": [],
   "source": [
    "def cal_l(beta,x,label):\n",
    "    # solve the l'(beta) and l''(beta) of data to l1 and l2 respectively\n",
    "    l1, l2 = 0, np.mat(np.zeros((3,3)))\n",
    "    # l1,l2 = np.zeros((1,3)), np.zeros((3,3))\n",
    "    for i in range(x.shape[1]):\n",
    "        l1 += x[:,i] * (np.exp(beta.T*x[:,i])/(1+np.exp(beta.T*x[:,i])) - label[i])\n",
    "        l2 += x[:,i]*x.T[i,:] * (np.exp(beta.T*x[:,i])/((1+np.exp(beta.T*x[:,i]))**2))[0,0]\n",
    "    return [l1,l2]"
   ]
  },
  {
   "cell_type": "code",
   "execution_count": 17,
   "metadata": {
    "collapsed": true
   },
   "outputs": [],
   "source": [
    "tmp = cal_l(beta,x,label)"
   ]
  },
  {
   "cell_type": "code",
   "execution_count": 18,
   "metadata": {
    "collapsed": false
   },
   "outputs": [
    {
     "data": {
      "text/plain": [
       "[matrix([[ 3.16583886],\n",
       "         [ 0.8786374 ],\n",
       "         [ 6.43813213]]), matrix([[ 0.62521997,  0.22944908,  1.10706565],\n",
       "         [ 0.22944908,  0.1148862 ,  0.43509314],\n",
       "         [ 1.10706565,  0.43509314,  2.16285971]])]"
      ]
     },
     "execution_count": 18,
     "metadata": {},
     "output_type": "execute_result"
    }
   ],
   "source": [
    "tmp"
   ]
  },
  {
   "cell_type": "code",
   "execution_count": 21,
   "metadata": {
    "collapsed": false
   },
   "outputs": [
    {
     "data": {
      "text/plain": [
       "matrix([[ 0.06059708,  0.01681793,  0.12323179]])"
      ]
     },
     "execution_count": 21,
     "metadata": {},
     "output_type": "execute_result"
    }
   ],
   "source": [
    "tmp[0].I"
   ]
  },
  {
   "cell_type": "code",
   "execution_count": 22,
   "metadata": {
    "collapsed": false
   },
   "outputs": [
    {
     "data": {
      "text/plain": [
       "matrix([[ 3.16583886],\n",
       "        [ 0.8786374 ],\n",
       "        [ 6.43813213]])"
      ]
     },
     "execution_count": 22,
     "metadata": {},
     "output_type": "execute_result"
    }
   ],
   "source": [
    "tmp[0]"
   ]
  },
  {
   "cell_type": "code",
   "execution_count": null,
   "metadata": {
    "collapsed": true
   },
   "outputs": [],
   "source": []
  },
  {
   "cell_type": "code",
   "execution_count": null,
   "metadata": {
    "collapsed": true
   },
   "outputs": [],
   "source": [
    "def cal_l(beta,x,label):\n",
    "    # solve the l'(beta) and l''(beta) of data to l1 and l2 respectively\n",
    "    l1, l2 = 0, np.mat(np.zeros((3,3)))\n",
    "    # l1,l2 = np.zeros((1,3)), np.zeros((3,3))\n",
    "    for i in range(x.shape[1]):\n",
    "        l1 += x[:,i] * (np.exp(beta.T*x[:,i])/(1+np.exp(beta.T*x[:,i])) - label[i])\n",
    "        l2 += x[:,i]*x.T[i,:] * (np.exp(beta.T*x[:,i])/((1+np.exp(beta.T*x[:,i]))**2))[0,0]\n",
    "    return [l1,l2]\n",
    "\n",
    "dist = 1  # carry out the distance between new_beta and beta.\n",
    "while dist >= 0.01:\n",
    "    # matrix类的I属性表示该矩阵的逆矩阵\n",
    "    new_beta = beta - cal_l(beta,x,label)[1].I * cal_l(beta,x,label)[0]\n",
    "    dist = np.linalg.norm(new_beta-beta) # 求两个向量的范数\n",
    "    beta = new_beta\n",
    "c = []  # save the logit regression result\n",
    "for i in range(17):\n",
    "    c.append(1/(1+np.exp(-beta.T*x[:,i]))[0,0])\n",
    "print(new_beta)\n",
    "print(c)"
   ]
  }
 ],
 "metadata": {
  "kernelspec": {
   "display_name": "Python 2",
   "language": "python",
   "name": "python2"
  },
  "language_info": {
   "codemirror_mode": {
    "name": "ipython",
    "version": 2
   },
   "file_extension": ".py",
   "mimetype": "text/x-python",
   "name": "python",
   "nbconvert_exporter": "python",
   "pygments_lexer": "ipython2",
   "version": "2.7.12"
  }
 },
 "nbformat": 4,
 "nbformat_minor": 2
}
